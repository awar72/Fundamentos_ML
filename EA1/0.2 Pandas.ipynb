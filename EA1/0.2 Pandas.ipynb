{
  "nbformat": 4,
  "nbformat_minor": 0,
  "metadata": {
    "colab": {
      "provenance": []
    },
    "kernelspec": {
      "name": "python3",
      "display_name": "Python 3"
    },
    "language_info": {
      "name": "python"
    }
  },
  "cells": [
    {
      "cell_type": "markdown",
      "source": [
        "Pandas\n",
        "Es una librería escrita como extensión de NumPy para manipulación y análisis de datos.\n",
        "Fue desarrollada en 2008 con el propósito de manejar series de tiempo. Su nombre se\n",
        "puede descomponer como Panel Data.\n",
        "Por convención se importa con el alias pd .\n",
        "Tiene soporte para cargar y guardar archivos fuera de Python.\n",
        "Tiene una performance bastante aceptable al estar desarrollada bajo Cython (Uso de\n",
        "Python bajo el lenguaje C).\n",
        "Rápida conexión con otras librerías como NumPy , Matplotlib , SciPy y scikit-\n",
        "learn .\n",
        "Soporte para transformación de datos.\n",
        "Manejo de datos faltantes.\n",
        "Documentación: https://pandas.pydata.org/docs/.\n",
        "Etc"
      ],
      "metadata": {
        "id": "S8A4wjMXmAki"
      }
    },
    {
      "cell_type": "markdown",
      "source": [
        "Estructura DataFrame y Series\n",
        "Series : Estructura de datos unidimensional con un conjunto de datos asociados a un\n",
        "índice. Se puede crear directamente desde un array de Numpy o una lista .\n",
        "DataFrame : Es una extensión de las Series . Mientras que un objecto Series contiene\n",
        "dos componentes: un set de valores e índices asociados, el DataFrame contiene tres\n",
        "componentes: Eje 0 (filas), Eje 1 (columnas) e índices asociados a cada fila. Su estructura\n",
        "básica es el array de NumPy. Se puede crear directamente desde un diccionario ."
      ],
      "metadata": {
        "id": "86GMjhaBsC8_"
      }
    },
    {
      "cell_type": "markdown",
      "source": [
        "Para una visualización correcta de DataFrames, cambiaremos print por display , una\n",
        "función que carga automáticamente Jupyter (lo que estamos usando ahora para crear\n",
        "nuestro código) proveniente de la librería IPython ."
      ],
      "metadata": {
        "id": "QkbMxTYPsX5F"
      }
    },
    {
      "cell_type": "code",
      "source": [
        "# Ejemplo de crear Series\n",
        "# Recordatorio de importar pandas\n",
        "import pandas as pd\n",
        "pd.options.display.float_format = '{:.6f}'.format\n",
        "precios = [1000, 2000, 1500, 300, 600, 500, 5000]\n",
        "precios_series = pd.Series(precios)\n",
        "print(\"lista:\", precios)\n",
        "print(precios_series)"
      ],
      "metadata": {
        "id": "vbtWC_HosKGL"
      },
      "execution_count": null,
      "outputs": []
    },
    {
      "cell_type": "code",
      "source": [
        "# Ejemplo de crear DataFrame a partir de un diccionario.\n",
        "diccionario = [\n",
        "{\"cancion\": \"La Bachata\", \"artista\": \"Manuel Turizo\", \"reproducciones\": \"269,343\"},\n",
        "{\"cancion\": \"Te Felicito\", \"artista\": \"Shakira\", \"reproducciones\": \"101,857\"},\n",
        "{\"cancion\": \"Shakira: Bzrp Mussic Sessions, Vol. 53\", \"artista\": \"Shakira\", \"reproducciones\":\"269,343\"},\n",
        "{\"cancion\": \"Parcera\", \"artista\": \"Pailita\", \"reproducciones\": \"159,147\"}\n",
        "]\n",
        "datos = pd.DataFrame(diccionario)\n",
        "# cambiamos print por display\n",
        "display(datos)"
      ],
      "metadata": {
        "id": "KR8S274js2su"
      },
      "execution_count": null,
      "outputs": []
    },
    {
      "cell_type": "markdown",
      "source": [
        "Además, podemos asignar una columna como índice, cumpliendo la función de\n",
        "Identificador dentro del conjunto de datos.\n",
        "Esto facilita el filtro e identificación de filas"
      ],
      "metadata": {
        "id": "qbLwJ-QquFF-"
      }
    },
    {
      "cell_type": "code",
      "source": [
        "# Ejemplo de aplicar índice\n",
        "datos_indice = datos.set_index(\"cancion\")\n",
        "display(datos_indice)"
      ],
      "metadata": {
        "id": "jUp6UsTmt_2z"
      },
      "execution_count": null,
      "outputs": []
    },
    {
      "cell_type": "markdown",
      "source": [
        "Carga de datasets\n",
        "pandas puede leer datos desde una gran variedad de formatos usando sus funciones de\n",
        "carga.\n",
        "Algunas de estas funciones son pd.read_csv , pd.read_table , pd.read_excel ,\n",
        "pd.read_html y pd.read_stata .\n",
        "Podemos indicar varios parámetros como columns , parse_dates e index_col .\n",
        "En particular, el parámetro parse_dates debe recibir una lista con las variables que se\n",
        "desee reconocer como fechas, estás deben seguir el estándar ISO 8601.\n",
        "Además, accedemos a las cinco primeras entradas de las bases de datos cargadas con el\n",
        "método head .\n",
        "Caguemos la base de datos superstore.csv , que muestra datos sobre una famosa cadena\n",
        "de Retail ubicada en Estados Unidos"
      ],
      "metadata": {
        "id": "rY510tjNut2i"
      }
    },
    {
      "cell_type": "code",
      "source": [
        "#### sube directo desde la dirección al entorno del programa\n",
        "#"
      ],
      "metadata": {
        "id": "nElAGsa1uTVN"
      },
      "execution_count": null,
      "outputs": []
    },
    {
      "cell_type": "code",
      "source": [
        "# Ejemplo de cargar bases de datos. Con archivo \"superstore.csv\".\n",
        "data = pd.read_csv(\"superstore.csv\", parse_dates=[\"Order Date\"], index_col=\"Order Date\")\n",
        "display(data.head())"
      ],
      "metadata": {
        "id": "zYDvxSxuuZGb"
      },
      "execution_count": null,
      "outputs": []
    },
    {
      "cell_type": "markdown",
      "source": [
        "Análisis Inicial de Datos\n",
        "Es necesario para obtener una perspectiva general nuestros datos.\n",
        "Obtenemos una descripción cuantitativa con el método describe() .\n",
        "Visualizamos tipos de variables y datos faltantes con el método info() .\n",
        "Obtenemos columnas de la base de datos con la propiedad columns .\n",
        "Las dimensiones de la base de datos las obtenemos con la propiedad shape ."
      ],
      "metadata": {
        "id": "GoCg43DJvS85"
      }
    },
    {
      "cell_type": "code",
      "source": [
        "# Uso de describe\n",
        "# 9.993e+03 = 9.993 * 10 ^ 3 = 9993\n",
        "display(data.describe())"
      ],
      "metadata": {
        "id": "rbUGB0RwvU-x"
      },
      "execution_count": null,
      "outputs": []
    },
    {
      "cell_type": "markdown",
      "source": [
        "La media puede ser un buen indicador para comprender el comportamiento de una\n",
        "variable numérica. Sin embargo, esta es sensible a valores extremos. Entonces ¿Qué\n",
        "herramientas nos ayudan a tener una noción correcta acerca de las variables numéricas?\n",
        "MEDIANA!!!! = 50%\n",
        "Para ello contamos con diferentes medidas que nos proporciona pandas , como la\n",
        "desviación estándar (ver imagen), mínimo, primer cuartil, segundo cuartil (mediana),\n",
        "tercer cuartil y máximo"
      ],
      "metadata": {
        "id": "w9jyWJax0lKE"
      }
    },
    {
      "cell_type": "code",
      "source": [
        "# Uso de info\n",
        "# info no requiere de print o display\n",
        "# object: string, cadena de texto o palabra\n",
        "# int64: número entero\n",
        "# float64: número decimal\n",
        "# datetime: fecha\n",
        "data.info()"
      ],
      "metadata": {
        "id": "TX-aECAUvrZl"
      },
      "execution_count": null,
      "outputs": []
    },
    {
      "cell_type": "code",
      "source": [
        "# Uso de columns\n",
        "nombre_columnas = data.columns\n",
        "print(nombre_columnas)"
      ],
      "metadata": {
        "id": "K3cVYxtD1AQR"
      },
      "execution_count": null,
      "outputs": []
    },
    {
      "cell_type": "code",
      "source": [
        "# Uso de shape\n",
        "dimensiones = data.shape\n",
        "print(dimensiones)"
      ],
      "metadata": {
        "id": "Qzb7XICt1g9N"
      },
      "execution_count": null,
      "outputs": []
    },
    {
      "cell_type": "markdown",
      "source": [
        "Subconjuntos de columnas en DataFrames\n",
        "Contamos con cuatro formas de hacerlo:\n",
        "Incorporar subsetting directamente: datos[listado_de_columnas] .\n",
        "De acuerdo a su localización: datos.loc[nombre_indices, nombre_columnas] .\n",
        "De acuerdo a su índice: datos.iloc[lista_con_indices_de_filas,\n",
        "lista_con_indices_de_columnas] .\n",
        "Eliminar columnas: datos.drop(columns=columnas_a_eliminar) .\n",
        "Si seleccionamos solo una variable, obtendremos un objeto del tipo Series ."
      ],
      "metadata": {
        "id": "wdIIlSm82F1y"
      }
    },
    {
      "cell_type": "code",
      "source": [
        "# Ejemplo 1: Seleccionar la columna 'Product Name'\n",
        "# string cuando es solo una variable\n",
        "# para dos o más variables, debe ser una lista\n",
        "product_name = data[\"Product Name\"]\n",
        "print(product_name)"
      ],
      "metadata": {
        "id": "gAhctA6i2MEu"
      },
      "execution_count": null,
      "outputs": []
    },
    {
      "cell_type": "code",
      "source": [
        "# Ejemplo 2: Seleccionar las columnas que comiencen con la palabra 'Order'\n",
        "## Directamente\n",
        "# LAMBDA : permite colocar en una sentencia una función completa...o sea, en vez de es\n",
        "# def cumple_condicion\n",
        "# condicion1 = columna.startswith(\"Order\")\n",
        "# condicion2 = columna.startswith(\"ORDER\")\n",
        "# condicion3 = columna.startswith(\"order\")\n",
        "# return condicion1 or condicion2 or condicion3\n",
        "#\n",
        "cumple_condicion = lambda columna: columna.startswith(\"Order\") or columna.startswith(\"ORDER\") or columna.startswith(\"order\")\n",
        "#\n",
        "comienza_con_order = [columna for columna in nombre_columnas if cumple_condicion(columna)]\n",
        "print(comienza_con_order)\n",
        "data_order = data[comienza_con_order]\n",
        "display(data_order.head())"
      ],
      "metadata": {
        "id": "83i3sX618mHZ"
      },
      "execution_count": null,
      "outputs": []
    },
    {
      "cell_type": "code",
      "source": [
        "## Con loc\n",
        "# FILAS, COLUMNAS\n",
        "data_loc = data.loc[:, comienza_con_order]\n",
        "display(data_loc.head())\n",
        "# Ejemplo iloc: primeras 1000 obs. y columnas 3 a la 10\n",
        "data_iloc = data.iloc[:1000, 2:10]"
      ],
      "metadata": {
        "id": "q8KvevSdEYB1"
      },
      "execution_count": null,
      "outputs": []
    },
    {
      "cell_type": "code",
      "source": [
        "## Eliminar columna\n",
        "data_sin_order = data.drop(columns=comienza_con_order)\n",
        "display(data_sin_order.head())"
      ],
      "metadata": {
        "id": "L7-9viBsEdIa"
      },
      "execution_count": null,
      "outputs": []
    },
    {
      "cell_type": "markdown",
      "source": [
        "## Eliminar columna\n",
        "data_sin_order = data.drop(columns=comienza_con_order)\n",
        "display(data_sin_order.head())"
      ],
      "metadata": {
        "id": "R7fGghjlE1sV"
      }
    },
    {
      "cell_type": "code",
      "source": [
        "# Ejemplo 1: Seleccionar las transacciones de los días\n",
        "# MUY IMPORTANTE: usar método sort_index\n",
        "data_ordenada = data.sort_index()\n",
        "print(\"- Data ordenada:\")\n",
        "display(data_ordenada.head())\n",
        "# 1, 2 y 3 de julio de 2017\n",
        "print(\"\\n- Selección de filas:\")\n",
        "display(data.loc[\"2017-07-01\":\"2017-07-03\", :])"
      ],
      "metadata": {
        "id": "u5dzG-j8Eqt6"
      },
      "execution_count": null,
      "outputs": []
    },
    {
      "cell_type": "markdown",
      "source": [
        "Además, para seleccionar filas podemos usar filtros, esto es seleccionar solo las que\n",
        "cumplan cierta condición.\n",
        "Algunas formas son las siguientes:\n",
        "Escribir directamente la condición: datos[condición] . (para consultas más complejas)\n",
        "A través del método loc: datos.loc[condicion, columnas]\n",
        "Método query: datos.query(\"condicion\") . (para consultas más sencillas)\n",
        "Importante: los operadores and y or en pandas son reemplazados por & y | y las\n",
        "condiciones deben estar entre parentesis."
      ],
      "metadata": {
        "id": "x7xBG3LeFBJ2"
      }
    },
    {
      "cell_type": "code",
      "source": [
        "# Ejemplo 1: Filtrar transacciones realizadas en el estado de New York\n",
        "condicion = data[\"State\"] == \"New York\"\n",
        "print(condicion)\n",
        "data_new_york = data[condicion]\n",
        "display(data_new_york.head())"
      ],
      "metadata": {
        "id": "_T2Y_X6cE9AR"
      },
      "execution_count": null,
      "outputs": []
    },
    {
      "cell_type": "code",
      "source": [
        "# Usando método query\n",
        "# Uso de comillas dobles y simples\n",
        "data_new_york_query = data.query(\"State == 'New York'\")"
      ],
      "metadata": {
        "id": "2Q2hXldZFL5N"
      },
      "execution_count": null,
      "outputs": []
    },
    {
      "cell_type": "code",
      "source": [
        "# Ejemplo 2: Seleccionar transacciones que fueron entre navidad y año nuevo, independi\n",
        "# Darse el tiempo de pensar en la condición óptima\n",
        "# 1° día > 25\n",
        "# 2° mes == 12\n",
        "# display(data.head())\n",
        "condicion1 = data[\"Order Day\"] > 25\n",
        "condicion2 = data[\"Order Month\"] == 12\n",
        "condicion = condicion1 & condicion2 # &: and\n",
        "display(data[condicion])"
      ],
      "metadata": {
        "id": "OrudaVHgFW4V"
      },
      "execution_count": null,
      "outputs": []
    },
    {
      "cell_type": "markdown",
      "source": [
        "Creación y edición de variables\n",
        "En ciertas ocaciones, crear columnas a través de las que ya tenemos disponibles nos ayuda\n",
        "a comprender de mejor forma nuestro conjunto de datos.\n",
        "Aplicar nuestros conocimientos previos es de suma relevancia para crear columnas con\n",
        "información útil para el análisis.\n",
        "El objeto tipo Series se encuentra vectorizado, lo que nos evita usar loops u otras\n",
        "funciones más compejas cuando la edición o creación de variables es sencilla.\n",
        "Ejemplos: Transformar dólares a pesos chilenos o viceversa, crear una columna que me\n",
        "indique si la fecha es víspera de las fiestas de fin de año, variable que me índique si es\n",
        "feriado o fin de semana, o si el monto de la venta es inferior a lo esperado.\n",
        "Función útil para crear categorías:\n",
        "import numpy as np\n",
        "datos[\"nombre_columna_nueva\"] = np.where(condicion, valor_si_True,\n",
        "valor_si_False)"
      ],
      "metadata": {
        "id": "IZAO0s7dFZhm"
      }
    },
    {
      "cell_type": "code",
      "source": [
        "# Ejemplo 1: Convertir pesos chilenos a dólares (1 USD = 930 CLP)\n",
        "# Sobre-escribimos - Recordar cambiar el nombre para que tenga sentido posteriormente\n",
        "data[\"Profit CLP\"] = data[\"Profit CLP\"] / 930\n",
        "data[\"Sales CLP\"] = data[\"Sales CLP\"] / 930"
      ],
      "metadata": {
        "id": "n6dOvYzqFrrw"
      },
      "execution_count": null,
      "outputs": []
    },
    {
      "cell_type": "code",
      "source": [
        "display(data.head())"
      ],
      "metadata": {
        "id": "cIn2Y9czFuhn"
      },
      "execution_count": null,
      "outputs": []
    },
    {
      "cell_type": "code",
      "source": [
        "# Ejemplo 2: Crear una variable que sea 'Yes' si la fecha es fin de semana, 'No' en caso contrario\n",
        "import numpy as np\n",
        "data[\"Weekend\"] = np.where(data[\"Order Weekday\"].isin([\"Saturday\", \"Sunday\"]), \"Yes\",\"No\")\n",
        "display(data.head())"
      ],
      "metadata": {
        "id": "74T4Lz5TF38C"
      },
      "execution_count": null,
      "outputs": []
    },
    {
      "cell_type": "markdown",
      "source": [
        "Cuando las transformaciones necesarias son algo más complejas, es de ayuda el método\n",
        "apply , que recibe como argumento una función predefinida o anónima.\n",
        "datos[columnas] = datos[columnas].apply(funcion)"
      ],
      "metadata": {
        "id": "7xYfL0cYGYoc"
      }
    },
    {
      "cell_type": "code",
      "source": [
        "# Ejemplo: Categorizar variable \"Discount\" de acuerdo a la siguiente función.\n",
        "def descuento_cat(valor):\n",
        "  if valor <= 0.2:\n",
        "    return \"0-20%\"\n",
        "  elif valor <= 0.4:\n",
        "    return \"20-40%\"\n",
        "  elif valor <= 0.6:\n",
        "    return \"40-60%\"\n",
        "  elif valor <= 0.8:\n",
        "    return \"60-80%\"\n",
        "  else:\n",
        "    return \"80-100%\"\n",
        "data[\"Discount Cat\"] = data[\"Discount\"].apply(descuento_cat)\n",
        "display(data.head(20)) # Veamos 20 primeros valores"
      ],
      "metadata": {
        "id": "X6ulaR8YGaZk"
      },
      "execution_count": null,
      "outputs": []
    },
    {
      "cell_type": "markdown",
      "source": [
        "Cambiemos los nombres de las variables \"Profit CLP\" y \"Sales CLP\" para una mayor\n",
        "concordancia con la transformación a dólares.\n",
        "\n",
        "Usamos el método rename , que recibe un diccionario en el parámetro columns .\n",
        "datos.rename(columns=diccionario)"
      ],
      "metadata": {
        "id": "HWQnyZdKHKea"
      }
    },
    {
      "cell_type": "code",
      "source": [
        "# Ejemplo de usar rename\n",
        "nuevos_nombres = {\n",
        "\"Profit CLP\": \"Profit\",\n",
        "\"Sales CLP\" : \"Sales\"\n",
        "}\n",
        "# Creamos variable para conservar cambios\n",
        "data = data.rename(columns=nuevos_nombres)\n",
        "display(data.head())"
      ],
      "metadata": {
        "id": "lSbh_rVAHQc7"
      },
      "execution_count": null,
      "outputs": []
    },
    {
      "cell_type": "markdown",
      "source": [
        "Resumen de variables\n",
        "Una forma de representar variables es a través de estadísticos de resumen.\n",
        "Estos incluyen medias, varianzas, percentiles, etc.\n",
        "Al igual que en NumPy, podemos acceder a distintos métodos directamente desde una\n",
        "variable seleccionada.\n",
        "Podemos cálcular varios resúmenes a través del método agg (aggregate), que puede\n",
        "recibir como argumento una lista con las estadísticas a calcular.\n",
        "datos[\"columna\"].estadistica()\n",
        "datos[\"columna\"].agg([\"estadística1\", \"estadística2\", \"etc\"])\n",
        "datos.agg({\n",
        "\"columna1\": [\"estadística1\", \"estadística2\", \"etc\"],\n",
        "\"columna2\": [\"estadística3\", \"estadística4\", \"etc\"]\n",
        "})"
      ],
      "metadata": {
        "id": "K7gWFieMHg0T"
      }
    },
    {
      "cell_type": "code",
      "source": [
        "# Ejemplo 1: Calcular media y desviación estandar de la variable profit\n",
        "## FORMA 1\n",
        "print(\"media:\", data[\"Profit\"].mean())\n",
        "print(\"std:\", data[\"Profit\"].std())\n",
        "## FORMA 2\n",
        "media_y_std = data[\"Profit\"].agg([\"mean\", \"std\", \"median\", \"var\"])\n",
        "print(\"\\nmedia y std:\\n\", media_y_std)"
      ],
      "metadata": {
        "id": "oERNf9n-HbRr"
      },
      "execution_count": null,
      "outputs": []
    },
    {
      "cell_type": "code",
      "source": [
        "# Ejemplo 2: Calcular media y mediana de las variables que incluyan divisas.\n",
        "resumenes = {\n",
        "\"Profit\": [\"mean\", \"median\"],\n",
        "\"Sales\": [\"mean\", \"median\", \"std\"]\n",
        "}\n",
        "media_mediana = data.agg(resumenes)\n",
        "print(media_mediana)"
      ],
      "metadata": {
        "id": "e1MscZbkHnAS"
      },
      "execution_count": null,
      "outputs": []
    },
    {
      "cell_type": "markdown",
      "source": [
        "También podemos observar estadísticas por grupo.\n",
        "Esto es ver el comportamiento de cada categoría de una variable respecto a las estadísticas\n",
        "indicadas.\n",
        "Para llevar esto a cabo, usamos el método groupby , que recibe como argumento una lista\n",
        "con las variables a agrupar\n",
        "\n",
        "-Luego de esto, podemos realizar los resúmenes de variables necesarios."
      ],
      "metadata": {
        "id": "yowYif0FHvOC"
      }
    },
    {
      "cell_type": "code",
      "source": [
        "# Ejemplo 1: Agrupar por variable 'Category' y calcular media de Profit\n",
        "print(data.groupby([\"Category\"]).agg({\"Profit\": \"mean\"}))\n",
        "print(\"\")\n",
        "print(data.groupby([\"Category\"])[\"Profit\"].mean()) # Alternativa"
      ],
      "metadata": {
        "id": "Q3kYN9BKH1QE"
      },
      "execution_count": null,
      "outputs": []
    },
    {
      "cell_type": "code",
      "source": [
        "# Ejemplo 2: Cálcular media de Sales según Estado y Categoría\n",
        "display(data.groupby([\"State\", \"Category\"]).agg({\"Sales\": \"mean\"}))"
      ],
      "metadata": {
        "id": "XXUV0kY6H6go"
      },
      "execution_count": null,
      "outputs": []
    },
    {
      "cell_type": "markdown",
      "source": [
        "Frecuencias dentro de variables\n",
        "Esto es útil para observar el comportamiento de las categorías pertenecientes a una\n",
        "variable.\n",
        "Encontramos la frecuencia absoluta y relativa.\n",
        "Frecuencia absoluta: Es una medida estadística que nos indica la cantidad de veces que\n",
        "ocurren ciertos eventos.\n",
        "Frecuencia relativa: Es el cuociente entre la frecuencia absoluta y la cantidad de\n",
        "observaciones disponibles (en el contexto de una base de datos).\n",
        "Para calcular frecuencias absolutas, usamos el método value_counts de una variable\n",
        "seleccionada.\n",
        "Para calcular frecuencias relativas, además debemos especificar el argumento \"%\" o\n",
        "'\"normalize=true\"'"
      ],
      "metadata": {
        "id": "QfecH7L7IDtE"
      }
    },
    {
      "cell_type": "code",
      "source": [
        "# Ejemplo 1: Calcular frecuencias de la variable 'Category'.\n",
        "# Frecuencia absoluta\n",
        "print(data.value_counts(\"Category\"))\n",
        "print(\"\")\n",
        "print(data[\"Category\"].value_counts())"
      ],
      "metadata": {
        "id": "eReoxfAhH__G"
      },
      "execution_count": null,
      "outputs": []
    },
    {
      "cell_type": "code",
      "source": [
        "# Frecuencia relativa\n",
        "print(data.value_counts(\"Category\", \"%\"))\n",
        "print(\"\")\n",
        "print(data[\"Category\"].value_counts(\"%\").apply(lambda x: str(round(x * 100, 2)) + \"%\"))"
      ],
      "metadata": {
        "id": "HdPPLhqhILuz"
      },
      "execution_count": null,
      "outputs": []
    },
    {
      "cell_type": "code",
      "source": [
        "data.value_counts(\"Category\", \"%\").to_frame(\"porcentajes\")"
      ],
      "metadata": {
        "id": "bNwZc3hWIX58"
      },
      "execution_count": null,
      "outputs": []
    },
    {
      "cell_type": "code",
      "source": [
        "data.value_counts(\"Category\", \"%\").to_frame().to_excel(\"porcentajes.xlsx\")"
      ],
      "metadata": {
        "id": "bO4kaqyMIb-S"
      },
      "execution_count": null,
      "outputs": []
    }
  ]
}